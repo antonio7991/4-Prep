{
 "cells": [
  {
   "attachments": {},
   "cell_type": "markdown",
   "metadata": {},
   "source": [
    "## Flujos de Control"
   ]
  },
  {
   "attachments": {},
   "cell_type": "markdown",
   "metadata": {},
   "source": [
    "1) Crear una variable que contenga un elemento del conjunto de números enteros y luego imprimir por pantalla si es mayor o menor a cero"
   ]
  },
  {
   "cell_type": "code",
   "execution_count": 1,
   "metadata": {},
   "outputs": [
    {
     "name": "stdout",
     "output_type": "stream",
     "text": [
      "El numero es menor a cero\n"
     ]
    }
   ],
   "source": [
    "x = -65\n",
    "if(x>0):\n",
    "    print(\"El numero es mayor a cero\")\n",
    "elif(x<0):\n",
    "    print(\"El numero es menor a cero\")\n",
    "else:\n",
    "    print(\"El numero es igual a cero\")"
   ]
  },
  {
   "attachments": {},
   "cell_type": "markdown",
   "metadata": {},
   "source": [
    "2) Crear dos variables y un condicional que informe si son del mismo tipo de dato"
   ]
  },
  {
   "cell_type": "code",
   "execution_count": 2,
   "metadata": {},
   "outputs": [
    {
     "name": "stdout",
     "output_type": "stream",
     "text": [
      "Las variables son del mismo tipo de dato: <class 'str'>\n"
     ]
    }
   ],
   "source": [
    "a=\"1\"\n",
    "b=\"Soy una letra\"\n",
    "\n",
    "#obtener el tipo de variable\n",
    "\n",
    "c=type(a)\n",
    "d=type(b)\n",
    "\n",
    "#verificamos\n",
    "\n",
    "if(c==d):\n",
    "    print(\"Las variables son del mismo tipo de dato:\",c)\n",
    "else:\n",
    "    print(\"Las variables no son del mismo tipo de dato\")"
   ]
  },
  {
   "attachments": {},
   "cell_type": "markdown",
   "metadata": {},
   "source": [
    "3) Para los valores enteros del 1 al 20, imprimir por pantalla si es par o impar"
   ]
  },
  {
   "cell_type": "code",
   "execution_count": 3,
   "metadata": {},
   "outputs": [
    {
     "name": "stdout",
     "output_type": "stream",
     "text": [
      "1  es un numero impar\n",
      "2  es un numero par\n",
      "3  es un numero impar\n",
      "4  es un numero par\n",
      "5  es un numero impar\n",
      "6  es un numero par\n",
      "7  es un numero impar\n",
      "8  es un numero par\n",
      "9  es un numero impar\n",
      "10  es un numero par\n",
      "11  es un numero impar\n",
      "12  es un numero par\n",
      "13  es un numero impar\n",
      "14  es un numero par\n",
      "15  es un numero impar\n",
      "16  es un numero par\n",
      "17  es un numero impar\n",
      "18  es un numero par\n",
      "19  es un numero impar\n",
      "20  es un numero par\n"
     ]
    }
   ],
   "source": [
    "for n in range (1,21):\n",
    "    if n%2==0:\n",
    "        print(n,\" es un numero par\")\n",
    "    else:\n",
    "        print(n,\" es un numero impar\")"
   ]
  },
  {
   "attachments": {},
   "cell_type": "markdown",
   "metadata": {},
   "source": [
    "4) En un ciclo for mostrar para los valores entre 0 y 5 el resultado de elevarlo a la potencia igual a 3"
   ]
  },
  {
   "cell_type": "code",
   "execution_count": 4,
   "metadata": {},
   "outputs": [
    {
     "name": "stdout",
     "output_type": "stream",
     "text": [
      "0  elevado a la potencia 3 es igual a  0\n",
      "1  elevado a la potencia 3 es igual a  1\n",
      "2  elevado a la potencia 3 es igual a  8\n",
      "3  elevado a la potencia 3 es igual a  27\n",
      "4  elevado a la potencia 3 es igual a  64\n",
      "5  elevado a la potencia 3 es igual a  125\n"
     ]
    }
   ],
   "source": [
    "for n in range (0,6):\n",
    "    r=n**3\n",
    "    print(n,\" elevado a la potencia 3 es igual a \",r)"
   ]
  },
  {
   "attachments": {},
   "cell_type": "markdown",
   "metadata": {},
   "source": [
    "5) Crear una variable que contenga un número entero y realizar un ciclo for la misma cantidad de ciclos"
   ]
  },
  {
   "cell_type": "code",
   "execution_count": 5,
   "metadata": {},
   "outputs": [
    {
     "name": "stdout",
     "output_type": "stream",
     "text": [
      "Este es un ciclo for\n",
      "Este es un ciclo for\n",
      "Este es un ciclo for\n",
      "Este es un ciclo for\n",
      "Este es un ciclo for\n"
     ]
    }
   ],
   "source": [
    "x=5\n",
    "\n",
    "for _ in range (1,x+1):\n",
    "    print(\"Este es un ciclo for\")\n"
   ]
  },
  {
   "attachments": {},
   "cell_type": "markdown",
   "metadata": {},
   "source": [
    "6) Utilizar un ciclo while para realizar el factorial de un número guardado en una variable, sólo si la variable contiene un número entero mayor a 0"
   ]
  },
  {
   "cell_type": "code",
   "execution_count": 6,
   "metadata": {},
   "outputs": [
    {
     "name": "stdout",
     "output_type": "stream",
     "text": [
      "El factorial es: 479001600\n"
     ]
    }
   ],
   "source": [
    "n=12\n",
    "if isinstance(n,int) and n>0:\n",
    "    f=1\n",
    "    while(n>0):\n",
    "        f=f*n\n",
    "        n=n-1\n",
    "    print(\"El factorial es:\",f)\n",
    "else:\n",
    "    print(\"El numero no es un entero mayor a cero\")\n",
    "\n",
    "\n"
   ]
  },
  {
   "attachments": {},
   "cell_type": "markdown",
   "metadata": {},
   "source": [
    "7) Crear un ciclo for dentro de un ciclo while"
   ]
  },
  {
   "cell_type": "code",
   "execution_count": 7,
   "metadata": {},
   "outputs": [
    {
     "name": "stdout",
     "output_type": "stream",
     "text": [
      "Comienzo del ciclo while\n",
      "Iteracion del ciclo for:  0\n",
      "Iteracion del ciclo for:  1\n",
      "Iteracion del ciclo for:  2\n",
      "Fin del ciclo for\n",
      "Fin del ciclo while\n",
      "Comienzo del ciclo while\n",
      "Iteracion del ciclo for:  0\n",
      "Iteracion del ciclo for:  1\n",
      "Iteracion del ciclo for:  2\n",
      "Fin del ciclo for\n",
      "Fin del ciclo while\n",
      "Comienzo del ciclo while\n",
      "Iteracion del ciclo for:  0\n",
      "Iteracion del ciclo for:  1\n",
      "Iteracion del ciclo for:  2\n",
      "Fin del ciclo for\n",
      "Fin del ciclo while\n"
     ]
    }
   ],
   "source": [
    "i=0\n",
    "while (i<3):\n",
    "    print(\"Comienzo del ciclo while\")\n",
    "\n",
    "    for j in range(3):\n",
    "        print(\"Iteracion del ciclo for: \",j)\n",
    "\n",
    "    print(\"Fin del ciclo for\")\n",
    "\n",
    "    i=i+1\n",
    "\n",
    "    print(\"Fin del ciclo while\")\n"
   ]
  },
  {
   "attachments": {},
   "cell_type": "markdown",
   "metadata": {},
   "source": [
    "8) Crear un ciclo while dentro de un ciclo for"
   ]
  },
  {
   "cell_type": "code",
   "execution_count": 8,
   "metadata": {},
   "outputs": [
    {
     "name": "stdout",
     "output_type": "stream",
     "text": [
      "comienzo del ciclo for\n",
      "Iteracion del ciclo while:  0\n",
      "Iteracion del ciclo while:  1\n",
      "Iteracion del ciclo while:  2\n",
      "Fin del ciclo while\n",
      "comienzo del ciclo for\n",
      "Iteracion del ciclo while:  0\n",
      "Iteracion del ciclo while:  1\n",
      "Iteracion del ciclo while:  2\n",
      "Fin del ciclo while\n",
      "comienzo del ciclo for\n",
      "Iteracion del ciclo while:  0\n",
      "Iteracion del ciclo while:  1\n",
      "Iteracion del ciclo while:  2\n",
      "Fin del ciclo while\n",
      "Fin del ciclo for\n"
     ]
    }
   ],
   "source": [
    "for i in range(3):\n",
    "    print(\"comienzo del ciclo for\")\n",
    "\n",
    "    j=0\n",
    "    while(j<=2):\n",
    "        print(\"Iteracion del ciclo while: \",j)\n",
    "        j=j+1\n",
    "    print(\"Fin del ciclo while\")\n",
    "\n",
    "print(\"Fin del ciclo for\")\n"
   ]
  },
  {
   "attachments": {},
   "cell_type": "markdown",
   "metadata": {},
   "source": [
    "9) Imprimir los números primos existentes entre 0 y 30"
   ]
  },
  {
   "cell_type": "code",
   "execution_count": 9,
   "metadata": {},
   "outputs": [
    {
     "name": "stdout",
     "output_type": "stream",
     "text": [
      "2 es primo\n",
      "3 es primo\n",
      "5 es primo\n",
      "7 es primo\n",
      "11 es primo\n",
      "13 es primo\n",
      "17 es primo\n",
      "19 es primo\n",
      "23 es primo\n",
      "29 es primo\n"
     ]
    }
   ],
   "source": [
    "def es_primo(n):\n",
    "    if n <= 1:\n",
    "        return False\n",
    "    if n <= 3:\n",
    "        return True\n",
    "    if n % 2 == 0:\n",
    "        return False\n",
    "    for i in range(3, int(n**0.5) + 1, 2):\n",
    "        if n % i == 0:\n",
    "            return False\n",
    "    return True\n",
    "\n",
    "for i in range(30):\n",
    "    if es_primo(i):\n",
    "        print(f\"{i} es primo\")\n"
   ]
  },
  {
   "attachments": {},
   "cell_type": "markdown",
   "metadata": {},
   "source": [
    "10) ¿Se puede mejorar el proceso del punto 9? Utilizar las sentencias break y/ó continue para tal fin"
   ]
  },
  {
   "cell_type": "code",
   "execution_count": 10,
   "metadata": {},
   "outputs": [
    {
     "name": "stdout",
     "output_type": "stream",
     "text": [
      "2 es primo.\n",
      "3 es primo.\n",
      "5 es primo.\n",
      "7 es primo.\n",
      "11 es primo.\n",
      "13 es primo.\n",
      "17 es primo.\n",
      "19 es primo.\n",
      "23 es primo.\n",
      "29 es primo.\n"
     ]
    }
   ],
   "source": [
    "def es_primo(n):\n",
    "    if n <= 1:\n",
    "        return False\n",
    "    if n <= 3:\n",
    "        return True\n",
    "    if n % 2 == 0:\n",
    "        return False\n",
    "\n",
    "    for i in range(3, int(n**0.5) + 1, 2):\n",
    "        if n % i == 0:\n",
    "            return False  # No es primo, ya que es divisible por i.\n",
    "    \n",
    "    return True  # Es primo, ya que no se encontró ningún divisor.\n",
    "\n",
    "\n",
    "limite = 30\n",
    "for num in range(2, limite + 1):\n",
    "    if not es_primo(num):\n",
    "        continue  # Salta el resto del bucle si el número no es primo.\n",
    "    print(f\"{num} es primo.\")\n",
    "\n"
   ]
  },
  {
   "attachments": {},
   "cell_type": "markdown",
   "metadata": {},
   "source": [
    "11) En los puntos 9 y 10, se diseño un código que encuentra números primos y además se lo optimizó. ¿Es posible saber en qué medida se optimizó?"
   ]
  },
  {
   "cell_type": "code",
   "execution_count": null,
   "metadata": {},
   "outputs": [],
   "source": []
  },
  {
   "attachments": {},
   "cell_type": "markdown",
   "metadata": {},
   "source": [
    "12) Aplicando continue, armar un ciclo while que solo imprima los valores divisibles por 12, dentro del rango de números de 100 a 300"
   ]
  },
  {
   "cell_type": "code",
   "execution_count": 11,
   "metadata": {},
   "outputs": [
    {
     "name": "stdout",
     "output_type": "stream",
     "text": [
      "108\n",
      "120\n",
      "132\n",
      "144\n",
      "156\n",
      "168\n",
      "180\n",
      "192\n",
      "204\n",
      "216\n",
      "228\n",
      "240\n",
      "252\n",
      "264\n",
      "276\n",
      "288\n",
      "300\n"
     ]
    }
   ],
   "source": [
    "n = 100\n",
    "while n <= 300:\n",
    "    if n % 12 != 0:\n",
    "        n += 1\n",
    "        continue  # Salta a la siguiente iteración si n no es divisible por 12.\n",
    "    print(n)\n",
    "    n += 1\n"
   ]
  },
  {
   "attachments": {},
   "cell_type": "markdown",
   "metadata": {},
   "source": [
    "13) Utilizar la función **input()** que permite hacer ingresos por teclado, para encontrar números primos y dar la opción al usario de buscar el siguiente"
   ]
  },
  {
   "cell_type": "code",
   "execution_count": 26,
   "metadata": {},
   "outputs": [],
   "source": [
    "def es_primo(n):\n",
    "    if n <= 1:\n",
    "        return False\n",
    "    if n == 2:\n",
    "        return True\n",
    "    if n % 2 == 0:\n",
    "        return False\n",
    "\n",
    "    for i in range(3, int(n**0.5) + 1, 2):\n",
    "        if n % i == 0:\n",
    "            return False\n",
    "\n",
    "    return True\n",
    "\n",
    "while True:\n",
    "    entrada = input(\"Ingresa un número para verificar si es primo (o 'q' para salir): \")\n",
    "\n",
    "    if entrada.lower() == 'q':\n",
    "        break\n",
    "\n",
    "    try:\n",
    "        numero = int(entrada)\n",
    "        if es_primo(numero):\n",
    "            print(f\"{numero} es un número primo.\")\n",
    "        else:\n",
    "            print(f\"{numero} no es un número primo.\")\n",
    "    except ValueError:\n",
    "        print(\"Ingresa un número válido o 'q' para salir.\")\n"
   ]
  },
  {
   "attachments": {},
   "cell_type": "markdown",
   "metadata": {},
   "source": [
    "14) Crear un ciclo while que encuentre dentro del rango de 100 a 300 el primer número divisible por 3 y además múltiplo de 6"
   ]
  },
  {
   "cell_type": "code",
   "execution_count": 33,
   "metadata": {},
   "outputs": [
    {
     "name": "stdout",
     "output_type": "stream",
     "text": [
      "El primer numero entre 100 a 300 divisible por 3 y multiplo de 6 es  102\n"
     ]
    }
   ],
   "source": [
    "i=100\n",
    "while(i<=300):\n",
    "    if  (i%3==0 and i%6==0):\n",
    "        print(\"El primer numero entre 100 a 300 divisible por 3 y multiplo de 6 es \",i)\n",
    "        break\n",
    "    i=i+1"
   ]
  }
 ],
 "metadata": {
  "interpreter": {
   "hash": "c85384e4cb51c8b72350f3a8712cc8351fdc3955e32a27f9b60c6242ab125f01"
  },
  "kernelspec": {
   "display_name": "Python 3 (ipykernel)",
   "language": "python",
   "name": "python3"
  },
  "language_info": {
   "codemirror_mode": {
    "name": "ipython",
    "version": 3
   },
   "file_extension": ".py",
   "mimetype": "text/x-python",
   "name": "python",
   "nbconvert_exporter": "python",
   "pygments_lexer": "ipython3",
   "version": "3.11.6"
  }
 },
 "nbformat": 4,
 "nbformat_minor": 4
}
